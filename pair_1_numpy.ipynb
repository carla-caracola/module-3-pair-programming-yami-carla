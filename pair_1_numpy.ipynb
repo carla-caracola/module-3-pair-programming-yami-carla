{
 "cells": [
  {
   "cell_type": "markdown",
   "metadata": {},
   "source": [
    "# Pair Numpy"
   ]
  },
  {
   "cell_type": "markdown",
   "metadata": {},
   "source": [
    "### Creación y Indexación"
   ]
  },
  {
   "cell_type": "code",
   "execution_count": null,
   "metadata": {},
   "outputs": [],
   "source": [
    "import numpy as np"
   ]
  },
  {
   "cell_type": "code",
   "execution_count": null,
   "metadata": {},
   "outputs": [],
   "source": [
    "# Ejercicio 1) Crea un array 1D con 50 valores aleatorio del 10 al 99. \n",
    "# Accede a los elementos en las posiciones múltiplos de 5.\n",
    "\n",
    "# array 1D con 50 valores aleatorio del 10 al 99\n",
    "array1 = np.random.randint(10, 99, 50)\n",
    "print (f\"\\nArray con 50 valores aleatorio del 10 al 99 ⬇️⬇️\\n{array1}\")\n",
    "\n",
    "# accede a los elementos en las posiciones múltiplos de 5\n",
    "print (f\"\\nElementos de las posiciones múltiplo de 5 ⬇️⬇️\\n{array1[5::5]}\")\n"
   ]
  },
  {
   "cell_type": "code",
   "execution_count": null,
   "metadata": {},
   "outputs": [],
   "source": [
    "# Ejercicio 3) Crea un array 2D de forma (4, 6) con números aleatorios decimales (no deben estar comprendidos solo entre 0 y 1). \n",
    "# Accede a la última fila de la matriz. Los decimales deben estar redondeados a 2 decimales.\n",
    "\n",
    "# primero, creamos un array 2D de forma (4, 6) con números aleatorios decimales entre [0,1)\n",
    "array_yami = np.random.rand (4,6)\n",
    "print(f\"Array_yami 🦄 (array 2D de forma (4, 6) con números aleatorios decimales entre [0,1)) ⬇️⬇️\\n{array_yami}\")\n",
    "\n",
    "# segundo, creamos un array 2D de forma (4, 6) con números enteros comprendidos entre [1,20)\n",
    "array_carli = np.random.randint (1, 20, (4,6))\n",
    "print(f\"\\nArray_carli 🍁 (array 2D de forma (4, 6) con números enteros comprendidos entre [1,20) ⬇️⬇️\\n{array_carli}\")\n",
    "\n",
    "# tercero, creamos el array pedido por el enunciado a partir de la multiplicación de los anteriores y redondeamos a 2 decimales\n",
    "array_resultado = np.round((array_yami * array_carli),2)\n",
    "print(f\"\\nArray_resultado ⬇️⬇️\\n{array_resultado}\")\n",
    "\n",
    "print(f\"\\nÚltima fila del array_resultado ⬇️⬇️\\n{array_resultado[-1]}\")"
   ]
  },
  {
   "cell_type": "markdown",
   "metadata": {},
   "source": [
    "### Reshape y Transpose"
   ]
  },
  {
   "cell_type": "code",
   "execution_count": null,
   "metadata": {},
   "outputs": [],
   "source": [
    "# Ejercicio 2) Crea un array 3D de forma (3, 4, 5) con valores enteros del 1 al 61 (sin incluir). Utiliza reshape para convertirlo en un array 2D.\n",
    "\n",
    "# creación del array 3D de forma (3, 4, 5) con valores enteros del 1 al 61 (sin incluir)\n",
    "array3d = np.random.randint(2, 61, (3,4,5))\n",
    "print(f\"\\nArray3d (array 3D de forma (3, 4, 5) con valores enteros del 1 al 61 (sin incluir) ⬇️⬇️\\n{array3d}\")\n",
    "\n",
    "# conversión a array 2D\n",
    "array2d = np.reshape(array3d,(6,10))\n",
    "print(f\"\\nArray2D ⬇️⬇️\\n{array2d}\")\n"
   ]
  },
  {
   "cell_type": "code",
   "execution_count": null,
   "metadata": {},
   "outputs": [],
   "source": [
    "# Ejercicio 3) Utiliza el array 3D del ejercicio 2 de reshape. \n",
    "# Utiliza transpose para permutar los ejes y obtener un nuevo array con forma (5, 4, 3).\n",
    "\n",
    "# array con (3, 4, 5)\n",
    "\n",
    "#                           arrays  filas   columnas\n",
    "# array 1 (array3D)            3       4       5\n",
    "# array 2 (array_trasposed)    5       4       3\n",
    "\n",
    "\n",
    "array_trasposed = np.transpose(array3d)\n",
    "print(f\"\\nArray_trasposed ⬇️⬇️\\n{array_trasposed}\")\n"
   ]
  }
 ],
 "metadata": {
  "kernelspec": {
   "display_name": "base",
   "language": "python",
   "name": "python3"
  },
  "language_info": {
   "codemirror_mode": {
    "name": "ipython",
    "version": 3
   },
   "file_extension": ".py",
   "mimetype": "text/x-python",
   "name": "python",
   "nbconvert_exporter": "python",
   "pygments_lexer": "ipython3",
   "version": "3.9.12"
  }
 },
 "nbformat": 4,
 "nbformat_minor": 2
}
